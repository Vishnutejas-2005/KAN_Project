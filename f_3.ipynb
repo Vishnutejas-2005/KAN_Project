{
 "cells": [
  {
   "cell_type": "code",
   "execution_count": 1,
   "id": "7179a8ec",
   "metadata": {},
   "outputs": [],
   "source": [
    "import torch\n",
    "import matplotlib.pyplot as plt\n",
    "from kan import MultKAN\n",
    "from kan import KAN, create_dataset\n",
    "from torch.utils.data import TensorDataset, DataLoader\n",
    "from scipy import special\n",
    "import numpy as np\n",
    "import time\n",
    "import torch.nn as nn\n",
    "from torch.nn import functional as F"
   ]
  },
  {
   "cell_type": "code",
   "execution_count": 2,
   "id": "9ddf3d3a",
   "metadata": {},
   "outputs": [],
   "source": [
    "pi = torch.pi\n",
    "f1 = lambda x: special.jn(0, 20*x[:,0])\n",
    "f2 = lambda x: torch.exp(x[:,1]**2  + torch.sin(x[:,0]*pi))\n",
    "f3 = lambda x: x[:,0]*x[:,1]\n",
    "f4 = lambda x: torch.exp(0.5*(torch.sin(pi*(x[:,0]**2 + x[:,1]**2))+torch.sin(pi*(x[:,2]**2 + x[:,3]**2))))\n",
    "f5 = lambda x: torch.exp(\n",
    "    0.2* torch.sum(torch.stack([\n",
    "        (torch.sin(0.5 * pi * x[:, i]))**2 for i in range(5)\n",
    "    ], dim=0), dim=0)\n",
    ").reshape(-1, 1)\n",
    "## Feynman datasets (dimensionless formula)\n",
    "f6 = lambda x: x[:,0]*(1/x[:,1] - 1) # used [2, 2, 1]\n",
    "f7 = lambda x: 1 + x[:,0]*torch.sin(pi*x[:,1]) # used [2, 2, 2, 1]\n",
    "f8 = lambda x: x[:,0]*torch.exp(-x[:,1]) # used [2, 1, 1]\n",
    "# f9 = x/y\n",
    "f9 = lambda x: x[:,0] / (x[:,1] + 1e-5) # used [2, 1, 1]\n",
    "# f10 = (1+a**2+b**2)**0.5\n",
    "f10 = lambda x: torch.sqrt(1 + x[:,0]**2 + x[:,1]**2) # used [2, 1, 1]"
   ]
  },
  {
   "cell_type": "code",
   "execution_count": 3,
   "id": "de0d903a",
   "metadata": {},
   "outputs": [
    {
     "name": "stdout",
     "output_type": "stream",
     "text": [
      "checkpoint directory created: ./model\n",
      "saving model version 0.0\n"
     ]
    }
   ],
   "source": [
    "dataset = create_dataset(f3, n_var=2,train_num=5000) # for testing mse errors, change f to other names, and change range\n",
    "kan_model = KAN(width=[2,2,1]) # change model to what was given above (default for the others is [1, 4, 4, 1])"
   ]
  },
  {
   "cell_type": "code",
   "execution_count": 4,
   "id": "9d27b16c",
   "metadata": {},
   "outputs": [
    {
     "name": "stderr",
     "output_type": "stream",
     "text": [
      "| train_loss: 6.52e-03 | test_loss: 6.34e-03 | reg: 6.99e+00 | : 100%|█| 100/100 [00:28<00:00,  3.54"
     ]
    },
    {
     "name": "stdout",
     "output_type": "stream",
     "text": [
      "saving model version 0.1\n"
     ]
    },
    {
     "name": "stderr",
     "output_type": "stream",
     "text": [
      "\n"
     ]
    }
   ],
   "source": [
    "start1 = time.time()\n",
    "kan_model.fit(dataset, steps=100, lamb=0.001)\n",
    "end1 = time.time()"
   ]
  },
  {
   "cell_type": "code",
   "execution_count": 5,
   "id": "6fc56b1e",
   "metadata": {},
   "outputs": [],
   "source": [
    "class MLP(nn.Module):\n",
    "    def __init__(self, input_dim=1, hidden_dim=64, output_dim=1):\n",
    "        super(MLP, self).__init__()\n",
    "        self.model = nn.Sequential(\n",
    "            nn.Linear(input_dim, hidden_dim),\n",
    "            nn.ReLU(),\n",
    "            nn.Linear(hidden_dim, hidden_dim),\n",
    "            nn.ReLU(),\n",
    "            nn.Linear(hidden_dim, output_dim)\n",
    "        )\n",
    "\n",
    "    def forward(self, x):\n",
    "        return self.model(x)"
   ]
  },
  {
   "cell_type": "code",
   "execution_count": 6,
   "id": "62175eff",
   "metadata": {},
   "outputs": [],
   "source": [
    "x_train = dataset['train_input']\n",
    "y_train = dataset['train_label']\n",
    "x_test = dataset['test_input']\n",
    "y_test = dataset['test_label']\n",
    "\n",
    "train_loader = DataLoader(TensorDataset(x_train, y_train), batch_size=32, shuffle=True)\n",
    "test_loader = DataLoader(TensorDataset(x_test, y_test), batch_size=128)\n",
    "\n",
    "mlp_model = MLP(input_dim=x_train.shape[1])\n",
    "optimizer = torch.optim.Adam(mlp_model.parameters(), lr=0.001)\n",
    "loss_fn = nn.MSELoss()\n",
    "\n",
    "start2 = time.time()\n",
    "for epoch in range(100):\n",
    "    mlp_model.train()\n",
    "    total_loss = 0\n",
    "    for xb, yb in train_loader:\n",
    "        pred = mlp_model(xb)\n",
    "        loss = loss_fn(pred, yb)\n",
    "        optimizer.zero_grad()\n",
    "        loss.backward()\n",
    "        optimizer.step()\n",
    "        total_loss += loss.item()\n",
    "end2 = time.time()\n",
    "\n"
   ]
  },
  {
   "cell_type": "code",
   "execution_count": 7,
   "id": "799cdc0e",
   "metadata": {},
   "outputs": [
    {
     "name": "stdout",
     "output_type": "stream",
     "text": [
      "MSE Loss for kan: 4.015311424154788e-05\n",
      "MSE Loss for mlp: 8.978557161753997e-06\n"
     ]
    }
   ],
   "source": [
    "\n",
    "test_input = dataset['test_input']\n",
    "test_label = dataset['test_label']\n",
    "with torch.no_grad():\n",
    "    prediction = kan_model(test_input)\n",
    "\n",
    "    # Ensure both tensors have the same shape\n",
    "    if prediction.shape != test_label.shape:\n",
    "        test_label = test_label.view_as(prediction)\n",
    "\n",
    "    mse_loss = F.mse_loss(prediction, test_label)\n",
    "print(\"MSE Loss for kan:\", mse_loss.item())\n",
    "\n",
    "with torch.no_grad():\n",
    "    prediction = mlp_model(test_input)\n",
    "\n",
    "    # Ensure both tensors have the same shape\n",
    "    if prediction.shape != test_label.shape:\n",
    "        test_label = test_label.view_as(prediction)\n",
    "\n",
    "    mse_loss = F.mse_loss(prediction, test_label)\n",
    "print(\"MSE Loss for mlp:\", mse_loss.item())"
   ]
  },
  {
   "cell_type": "code",
   "execution_count": 8,
   "id": "5de32fc0",
   "metadata": {},
   "outputs": [
    {
     "name": "stdout",
     "output_type": "stream",
     "text": [
      "Number of parameters for kan model = 72\n",
      "The time taken to train for kan model = 28.230538606643677\n",
      "Number of parameters for mlp model = 4417\n",
      "The time taken to train for mlp model = 8.194283246994019\n"
     ]
    }
   ],
   "source": [
    "count = 0\n",
    "\n",
    "for p in kan_model.parameters():\n",
    "    if p.requires_grad:\n",
    "      p_count = p.numel()\n",
    "      count += p_count\n",
    "\n",
    "print(\"Number of parameters for kan model =\", count)\n",
    "print(\"The time taken to train for kan model =\", end1-start1)\n",
    "\n",
    "count = 0\n",
    "\n",
    "for p in mlp_model.parameters():\n",
    "    if p.requires_grad:\n",
    "      p_count = p.numel()\n",
    "      count += p_count\n",
    "\n",
    "print(\"Number of parameters for mlp model =\", count)\n",
    "print(\"The time taken to train for mlp model =\", end2-start2)"
   ]
  },
  {
   "cell_type": "code",
   "execution_count": 9,
   "id": "f8bde62a",
   "metadata": {},
   "outputs": [
    {
     "data": {
      "image/png": "[encoded data removed]",
      "text/plain": [
       "<Figure size 500x400 with 10 Axes>"
      ]
     },
     "metadata": {},
     "output_type": "display_data"
    }
   ],
   "source": [
    "kan_model.plot()\n"
   ]
  },
  {
   "cell_type": "code",
   "execution_count": 10,
   "id": "b4a7d1d6",
   "metadata": {},
   "outputs": [
    {
     "name": "stdout",
     "output_type": "stream",
     "text": [
      "saving model version 0.2\n"
     ]
    },
    {
     "data": {
      "image/png": "[encoded data removed]",
      "text/plain": [
       "<Figure size 500x400 with 10 Axes>"
      ]
     },
     "metadata": {},
     "output_type": "display_data"
    }
   ],
   "source": [
    "kan_model = kan_model.prune()\n",
    "kan_model.plot()"
   ]
  },
  {
   "cell_type": "code",
   "execution_count": 11,
   "id": "57fb91ac",
   "metadata": {},
   "outputs": [
    {
     "name": "stdout",
     "output_type": "stream",
     "text": [
      "  function  fitting r2    r2 loss  complexity  complexity loss  total loss\n",
      "0        x    0.999203 -10.275297           1                1   -1.255059\n",
      "1      exp    0.999826 -12.407649           2                2   -0.881530\n",
      "2      x^2    0.999815 -12.326792           2                2   -0.865358\n",
      "3    x^0.5    0.999621 -11.326300           2                2   -0.665260\n",
      "4     sqrt    0.999621 -11.326300           2                2   -0.665260\n"
     ]
    },
    {
     "data": {
      "text/plain": [
       "('x',\n",
       " (<function kan.utils.<lambda>(x)>,\n",
       "  <function kan.utils.<lambda>(x)>,\n",
       "  1,\n",
       "  <function kan.utils.<lambda>(x, y_th)>),\n",
       " np.float64(0.999203085899353),\n",
       " np.int64(1))"
      ]
     },
     "execution_count": 11,
     "metadata": {},
     "output_type": "execute_result"
    }
   ],
   "source": [
    "kan_model.suggest_symbolic(0,0,0)"
   ]
  }
 ],
 "metadata": {
  "kernelspec": {
   "display_name": ".venv",
   "language": "python",
   "name": "python3"
  },
  "language_info": {
   "codemirror_mode": {
    "name": "ipython",
    "version": 3
   },
   "file_extension": ".py",
   "mimetype": "text/x-python",
   "name": "python",
   "nbconvert_exporter": "python",
   "pygments_lexer": "ipython3",
   "version": "3.10.17"
  }
 },
 "nbformat": 4,
 "nbformat_minor": 5
}
