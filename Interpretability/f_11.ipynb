{
 "cells": [
  {
   "cell_type": "code",
   "execution_count": 98,
   "id": "7179a8ec",
   "metadata": {},
   "outputs": [],
   "source": [
    "import torch\n",
    "import matplotlib.pyplot as plt\n",
    "from kan import MultKAN\n",
    "from kan import KAN, create_dataset\n",
    "from torch.utils.data import TensorDataset, DataLoader\n",
    "from scipy import special\n",
    "import numpy as np\n",
    "import time\n",
    "import torch.nn as nn\n",
    "from torch.nn import functional as F"
   ]
  },
  {
   "cell_type": "code",
   "execution_count": 99,
   "id": "9ddf3d3a",
   "metadata": {},
   "outputs": [],
   "source": [
    "pi = torch.pi\n",
    "f1 = lambda x: special.jn(0, 20*x[:,0])\n",
    "f2 = lambda x: torch.exp(x[:,1]**2  + torch.sin(x[:,0]*pi))\n",
    "f3 = lambda x: x[:,0]*x[:,1]\n",
    "f4 = lambda x: torch.exp(0.5*(torch.sin(pi*(x[:,0]**2 + x[:,1]**2))+torch.sin(pi*(x[:,2]**2 + x[:,3]**2))))\n",
    "f5 = lambda x: torch.exp(\n",
    "    0.2* torch.sum(torch.stack([\n",
    "        (torch.sin(0.5 * pi * x[:, i]))**2 for i in range(5)\n",
    "    ], dim=0), dim=0)\n",
    ").reshape(-1, 1)\n",
    "## Feynman datasets (dimensionless formula)\n",
    "f6 = lambda x: x[:,0]*(1/x[:,1] - 1) # used [2, 2, 1]\n",
    "f7 = lambda x: x[:,0]*torch.sin(pi*x[:,1]) # used [2, 2, 2, 1]\n",
    "f8 = lambda x: x[:,0]*torch.exp(-x[:,1]) # used [2, 1, 1]\n",
    "# f9 = x/y\n",
    "f9 = lambda x: x[:,0] / (x[:,1] + 1e-5) # used [2, 1, 1]\n",
    "# f10 = (1+a**2+b**2)**0.5\n",
    "f10 = lambda x: torch.sqrt(1 + x[:,0]**2 + x[:,1]**2) # used [2, 1, 1]"
   ]
  },
  {
   "cell_type": "code",
   "execution_count": 100,
   "id": "de0d903a",
   "metadata": {},
   "outputs": [
    {
     "name": "stdout",
     "output_type": "stream",
     "text": [
      "checkpoint directory created: ./model\n",
      "saving model version 0.0\n"
     ]
    }
   ],
   "source": [
    "dataset = create_dataset(f6, n_var=2,train_num=5000,ranges=[[-1,2],[0.5,2]]) # for testing mse errors, change f to other names, and change range\n",
    "kan_model = KAN(width=[2,2,1]) # change model to what was given above (default for the others is [1, 4, 4, 1])"
   ]
  },
  {
   "cell_type": "code",
   "execution_count": 101,
   "id": "9d27b16c",
   "metadata": {},
   "outputs": [
    {
     "name": "stderr",
     "output_type": "stream",
     "text": [
      "| train_loss: 8.06e-03 | test_loss: 7.96e-03 | reg: 7.94e+00 | : 100%|█| 50/50 [00:15<00:00,  3.16it"
     ]
    },
    {
     "name": "stdout",
     "output_type": "stream",
     "text": [
      "saving model version 0.1\n"
     ]
    },
    {
     "name": "stderr",
     "output_type": "stream",
     "text": [
      "\n"
     ]
    }
   ],
   "source": [
    "start1 = time.time()\n",
    "kan_model.fit(dataset, steps=50, lamb=0.001)\n",
    "end1 = time.time()"
   ]
  },
  {
   "cell_type": "code",
   "execution_count": 102,
   "id": "6fc56b1e",
   "metadata": {},
   "outputs": [],
   "source": [
    "class MLP(nn.Module):\n",
    "    def __init__(self, input_dim=1, hidden_dim=64, output_dim=1):\n",
    "        super(MLP, self).__init__()\n",
    "        self.model = nn.Sequential(\n",
    "            nn.Linear(input_dim, hidden_dim),\n",
    "            nn.ReLU(),\n",
    "            nn.Linear(hidden_dim, hidden_dim),\n",
    "            nn.ReLU(),\n",
    "            nn.Linear(hidden_dim, output_dim)\n",
    "        )\n",
    "\n",
    "    def forward(self, x):\n",
    "        return self.model(x)"
   ]
  },
  {
   "cell_type": "code",
   "execution_count": 103,
   "id": "62175eff",
   "metadata": {},
   "outputs": [],
   "source": [
    "x_train = dataset['train_input']\n",
    "y_train = dataset['train_label']\n",
    "x_test = dataset['test_input']\n",
    "y_test = dataset['test_label']\n",
    "\n",
    "train_loader = DataLoader(TensorDataset(x_train, y_train), batch_size=32, shuffle=True)\n",
    "test_loader = DataLoader(TensorDataset(x_test, y_test), batch_size=128)\n",
    "\n",
    "mlp_model = MLP(input_dim=x_train.shape[1])\n",
    "optimizer = torch.optim.Adam(mlp_model.parameters(), lr=0.001)\n",
    "loss_fn = nn.MSELoss()\n",
    "\n",
    "start2 = time.time()\n",
    "for epoch in range(50):\n",
    "    mlp_model.train()\n",
    "    total_loss = 0\n",
    "    for xb, yb in train_loader:\n",
    "        pred = mlp_model(xb)\n",
    "        loss = loss_fn(pred, yb)\n",
    "        optimizer.zero_grad()\n",
    "        loss.backward()\n",
    "        optimizer.step()\n",
    "        total_loss += loss.item()\n",
    "end2 = time.time()\n",
    "\n"
   ]
  },
  {
   "cell_type": "code",
   "execution_count": 104,
   "id": "799cdc0e",
   "metadata": {},
   "outputs": [
    {
     "name": "stdout",
     "output_type": "stream",
     "text": [
      "MSE Loss for kan: 6.341883272398263e-05\n",
      "MSE Loss for mlp: 4.4967029680265114e-05\n"
     ]
    }
   ],
   "source": [
    "\n",
    "test_input = dataset['test_input']\n",
    "test_label = dataset['test_label']\n",
    "with torch.no_grad():\n",
    "    prediction = kan_model(test_input)\n",
    "\n",
    "    # Ensure both tensors have the same shape\n",
    "    if prediction.shape != test_label.shape:\n",
    "        test_label = test_label.view_as(prediction)\n",
    "\n",
    "    mse_loss = F.mse_loss(prediction, test_label)\n",
    "print(\"MSE Loss for kan:\", mse_loss.item())\n",
    "\n",
    "with torch.no_grad():\n",
    "    prediction = mlp_model(test_input)\n",
    "\n",
    "    # Ensure both tensors have the same shape\n",
    "    if prediction.shape != test_label.shape:\n",
    "        test_label = test_label.view_as(prediction)\n",
    "\n",
    "    mse_loss = F.mse_loss(prediction, test_label)\n",
    "print(\"MSE Loss for mlp:\", mse_loss.item())"
   ]
  },
  {
   "cell_type": "code",
   "execution_count": 105,
   "id": "5de32fc0",
   "metadata": {},
   "outputs": [
    {
     "name": "stdout",
     "output_type": "stream",
     "text": [
      "Number of parameters for kan model = 72\n",
      "The time taken to train for kan model = 15.847001075744629\n",
      "Number of parameters for mlp model = 4417\n",
      "The time taken to train for mlp model = 10.686205863952637\n"
     ]
    }
   ],
   "source": [
    "count = 0\n",
    "\n",
    "for p in kan_model.parameters():\n",
    "    if p.requires_grad:\n",
    "      p_count = p.numel()\n",
    "      count += p_count\n",
    "\n",
    "print(\"Number of parameters for kan model =\", count)\n",
    "print(\"The time taken to train for kan model =\", end1-start1)\n",
    "\n",
    "count = 0\n",
    "\n",
    "for p in mlp_model.parameters():\n",
    "    if p.requires_grad:\n",
    "      p_count = p.numel()\n",
    "      count += p_count\n",
    "\n",
    "print(\"Number of parameters for mlp model =\", count)\n",
    "print(\"The time taken to train for mlp model =\", end2-start2)"
   ]
  },
  {
   "cell_type": "code",
   "execution_count": 106,
   "id": "f8bde62a",
   "metadata": {},
   "outputs": [
    {
     "data": {
      "image/png": "[encoded data removed]",
      "text/plain": [
       "<Figure size 500x400 with 10 Axes>"
      ]
     },
     "metadata": {},
     "output_type": "display_data"
    }
   ],
   "source": [
    "kan_model.plot()\n"
   ]
  },
  {
   "cell_type": "code",
   "execution_count": 107,
   "id": "b4a7d1d6",
   "metadata": {},
   "outputs": [
    {
     "name": "stdout",
     "output_type": "stream",
     "text": [
      "saving model version 0.2\n"
     ]
    },
    {
     "data": {
      "image/png": "[encoded data removed]",
      "text/plain": [
       "<Figure size 500x400 with 10 Axes>"
      ]
     },
     "metadata": {},
     "output_type": "display_data"
    }
   ],
   "source": [
    "kan_model = kan_model.prune()\n",
    "kan_model.plot()"
   ]
  },
  {
   "cell_type": "code",
   "execution_count": 110,
   "id": "57fb91ac",
   "metadata": {},
   "outputs": [
    {
     "name": "stdout",
     "output_type": "stream",
     "text": [
      "    function  fitting r2    r2 loss  complexity  complexity loss  total loss\n",
      "0        log    0.999829 -12.433103           2                2   -0.886621\n",
      "1  1/sqrt(x)    0.999325 -10.511937           2                2   -0.502387\n",
      "2    1/x^0.5    0.999325 -10.511937           2                2   -0.502387\n",
      "3        1/x    0.998953  -9.885137           2                2   -0.377027\n",
      "4      1/x^2    0.998510  -9.381054           2                2   -0.276211\n"
     ]
    },
    {
     "data": {
      "text/plain": [
       "('log',\n",
       " (<function kan.utils.<lambda>(x)>,\n",
       "  <function kan.utils.<lambda>(x)>,\n",
       "  2,\n",
       "  <function kan.utils.<lambda>(x, y_th)>),\n",
       " np.float64(0.9998291730880737),\n",
       " np.int64(2))"
      ]
     },
     "execution_count": 110,
     "metadata": {},
     "output_type": "execute_result"
    }
   ],
   "source": [
    "kan_model.suggest_symbolic(0,1,0)"
   ]
  }
 ],
 "metadata": {
  "kernelspec": {
   "display_name": ".venv",
   "language": "python",
   "name": "python3"
  },
  "language_info": {
   "codemirror_mode": {
    "name": "ipython",
    "version": 3
   },
   "file_extension": ".py",
   "mimetype": "text/x-python",
   "name": "python",
   "nbconvert_exporter": "python",
   "pygments_lexer": "ipython3",
   "version": "3.12.3"
  }
 },
 "nbformat": 4,
 "nbformat_minor": 5
}
